{
 "cells": [
  {
   "cell_type": "code",
   "execution_count": 1,
   "id": "8e9daffd",
   "metadata": {},
   "outputs": [],
   "source": [
    "# packages\n",
    "import numpy as np\n",
    "import xlrd # to open excel\n",
    "import math\n",
    "import time"
   ]
  },
  {
   "cell_type": "markdown",
   "id": "21cdea2e",
   "metadata": {},
   "source": [
    "# Get data"
   ]
  },
  {
   "cell_type": "markdown",
   "id": "360dd557",
   "metadata": {},
   "source": [
    "https://www.insee.fr/fr/statistiques?taille=100&debut=0&theme=1&categorie=3&geo=COMPRD-1\n",
    "\n",
    "Thème Démographie / Evolution et structure de la population / Population selon le sexe et l'âge quinquennal de 1968 à 2017  (onglet COM_2017)\n"
   ]
  },
  {
   "cell_type": "code",
   "execution_count": 3,
   "id": "dabedc64",
   "metadata": {},
   "outputs": [
    {
     "name": "stdout",
     "output_type": "stream",
     "text": [
      "46 38228\n"
     ]
    }
   ],
   "source": [
    "#open xls file\n",
    "file = xlrd.open_workbook('pop-sexe-age-quinquennal6817.xls',on_demand=True)\n",
    "\n",
    "name = \"COM_2017\"\n",
    "sheet = file.sheet_by_name(name)\n",
    "\n",
    "#print(sheet.__dict__.keys())\n",
    "\n",
    "print(sheet.ncols, sheet.nrows) # columns number, rows number\n",
    "\n",
    "cols_labels = sheet.row(12)\n",
    "#print(cols_labels)"
   ]
  },
  {
   "cell_type": "code",
   "execution_count": 4,
   "id": "b4388665",
   "metadata": {},
   "outputs": [
    {
     "data": {
      "text/plain": [
       "('Région \\nen géographie courante', 'Département\\nen géographie courante')"
      ]
     },
     "execution_count": 4,
     "metadata": {},
     "output_type": "execute_result"
    }
   ],
   "source": [
    "(sheet.cell(12, 0)).value, (sheet.cell(12, 1)).value"
   ]
  },
  {
   "cell_type": "code",
   "execution_count": 6,
   "id": "be7a4b57",
   "metadata": {},
   "outputs": [
    {
     "name": "stdout",
     "output_type": "stream",
     "text": [
      "Région \n",
      "en géographie courante\n",
      " ==== \n",
      "Département\n",
      "en géographie courante\n",
      " ==== \n",
      "Commune\n",
      "en géographie courante\n",
      " ==== \n"
     ]
    }
   ],
   "source": [
    "for col in range(3): # only the 3 first ones, otherwise --> sheet.ncols  #skipping headers of the xlsx\n",
    "    #print(sheet.cell(rownum, 1)) # e.g Printing all rows value of 3rd column\n",
    "    print((sheet.cell(12, col)).value)\n",
    "    print(\" ==== \")"
   ]
  },
  {
   "cell_type": "code",
   "execution_count": 7,
   "id": "7a6f5139",
   "metadata": {},
   "outputs": [
    {
     "data": {
      "text/plain": [
       "[text:'Abergement-Clémenciat', text:'Abergement-De-Varey']"
      ]
     },
     "execution_count": 7,
     "metadata": {},
     "output_type": "execute_result"
    }
   ],
   "source": [
    "sheet.col_slice(colx = 5, start_rowx=14, end_rowx=16)"
   ]
  },
  {
   "cell_type": "markdown",
   "id": "b0d0c37d",
   "metadata": {},
   "source": [
    "# Data manipulation"
   ]
  },
  {
   "cell_type": "code",
   "execution_count": 8,
   "id": "b5e0176b",
   "metadata": {},
   "outputs": [
    {
     "name": "stdout",
     "output_type": "stream",
     "text": [
      "--- 6.550785064697266 seconds ---\n"
     ]
    }
   ],
   "source": [
    "numrow = 10 # 11th row, where we find age incrementation , step = 5 years old\n",
    "# numrow = 11 --> here, we find sexe labels : 1 for man && 2 for women\n",
    "dic = {}\n",
    "\n",
    "\n",
    "# here, we want to separate the gender in the dictionary\n",
    "\n",
    "#dic[\"id_comune\"] = []\n",
    "dic[\"Age\"] = []\n",
    "dic[\"Men\"] = []\n",
    "dic[\"Women\"] = []\n",
    "age = []\n",
    "\n",
    "start_time = time.time()\n",
    "\n",
    "for col in range(6,sheet.ncols):\n",
    "    m = []; f = []; \n",
    "\n",
    "    #print(sheet.cell(numrow, col).value) \n",
    "    age.append(float(sheet.cell(10, col).value)) # do not worry, we remove duplicates at the end\n",
    "        \n",
    "    for i in sheet.col_slice(colx = col, start_rowx=14, end_rowx=sheet.nrows-1):\n",
    "        if sheet.cell(numrow + 1, col).value == 1.0:  # women \n",
    "                \n",
    "            if not i.value: # empty string ''\n",
    "                m.append(0)\n",
    "            else:\n",
    "                m.append(i.value)  \n",
    "                \n",
    "        if sheet.cell(numrow + 1, col).value == 2.0:  # woman \n",
    "            if not i.value: # empty string ''\n",
    "                 f.append(0)\n",
    "            else:\n",
    "                f.append(i.value)   \n",
    "                \n",
    "\n",
    "    # an empty m is created for women set, however, \n",
    "    # below, we ignore this empty list already created by boocle for\n",
    "    # because we want to separate F  and M in the dictionary\n",
    "                    \n",
    "                    \n",
    "    ###  =========================================   ###\n",
    "    if m: # List is not empty\n",
    "        dic[\"Men\"].append(m)\n",
    "\n",
    "    if f: # List is not empty\n",
    "        dic[\"Women\"].append(f)\n",
    "    ###   =========================================   ###\n",
    "    \n",
    "# age list includes duplicated elements since there is a same age for man and women\n",
    "###   ==================== remove duplicates elts =====================   ###\n",
    "dic[\"Age\"] = list(dict.fromkeys(age))\n",
    "\n",
    "print(\"--- %s seconds ---\" % (time.time() - start_time))        \n",
    "    "
   ]
  },
  {
   "cell_type": "code",
   "execution_count": 9,
   "id": "8c67c744",
   "metadata": {},
   "outputs": [
    {
     "data": {
      "text/plain": [
       "20"
      ]
     },
     "execution_count": 9,
     "metadata": {},
     "output_type": "execute_result"
    }
   ],
   "source": [
    "len(dic[\"Age\"])"
   ]
  },
  {
   "cell_type": "code",
   "execution_count": 10,
   "id": "e8e6bb31",
   "metadata": {},
   "outputs": [
    {
     "data": {
      "text/plain": [
       "[20.14216916556245, 20.41152263374484, 0]"
      ]
     },
     "execution_count": 10,
     "metadata": {},
     "output_type": "execute_result"
    }
   ],
   "source": [
    "dic[\"Women\"][0][:3]"
   ]
  },
  {
   "cell_type": "code",
   "execution_count": 11,
   "id": "785802e1",
   "metadata": {},
   "outputs": [
    {
     "data": {
      "text/plain": [
       "[15.07873228599744, 5.10288065843621, 0]"
      ]
     },
     "execution_count": 11,
     "metadata": {},
     "output_type": "execute_result"
    }
   ],
   "source": [
    "dic[\"Men\"][0][:3]"
   ]
  },
  {
   "cell_type": "markdown",
   "id": "a30300fd",
   "metadata": {},
   "source": [
    "# PLOTS"
   ]
  },
  {
   "cell_type": "code",
   "execution_count": 12,
   "id": "18572d6d",
   "metadata": {},
   "outputs": [],
   "source": [
    "sum_men = [sum(dic[\"Men\"][i]) for i in np.arange(len(dic[\"Age\"]))]\n",
    "\n",
    "sum_women = [-sum(dic[\"Women\"][i]) for i in np.arange(len(dic[\"Age\"]))]"
   ]
  },
  {
   "cell_type": "code",
   "execution_count": 13,
   "id": "156bc3ba",
   "metadata": {},
   "outputs": [
    {
     "data": {
      "text/plain": [
       "['0-4',\n",
       " '5-9',\n",
       " '10-14',\n",
       " '15-19',\n",
       " '20-24',\n",
       " '25-29',\n",
       " '30-34',\n",
       " '35-39',\n",
       " '40-44',\n",
       " '45-49',\n",
       " '50-54',\n",
       " '55-59',\n",
       " '60-64',\n",
       " '65-69',\n",
       " '70-74',\n",
       " '75-79',\n",
       " '80-84',\n",
       " '85-89',\n",
       " '90-94',\n",
       " '>=95']"
      ]
     },
     "execution_count": 13,
     "metadata": {},
     "output_type": "execute_result"
    }
   ],
   "source": [
    "# create age labels for the plot\n",
    "yticklabels = []\n",
    "for i in dic['Age'][:-1]:\n",
    "    yticklabels.append(str(int(i)) + \"-\" + str( int(i)+4))\n",
    "yticklabels.append(\">=95\")\n",
    "yticklabels"
   ]
  },
  {
   "cell_type": "code",
   "execution_count": 14,
   "id": "e126370f",
   "metadata": {},
   "outputs": [
    {
     "data": {
      "image/png": "[encoded data removed]",
      "text/plain": [
       "<Figure size 792x576 with 1 Axes>"
      ]
     },
     "metadata": {
      "needs_background": "light"
     },
     "output_type": "display_data"
    }
   ],
   "source": [
    "from matplotlib import pyplot as plt\n",
    "from numpy import arange\n",
    "fig, ax = plt.subplots(figsize=(11,8))\n",
    "ValH = ax.barh(dic[\"Age\"], sum_men, 5.3, label=\"Men\",\n",
    "               color='b', linewidth=0.5, align='center', alpha = 0.5)\n",
    "ValF = ax.barh(dic[\"Age\"], sum_women, 5.3, label=\"Women\",\n",
    "               color='r', linewidth=0, align='center', alpha = 0.5)\n",
    "ax.set_title(\"Population pyramid -- 2017 , France\")\n",
    "ax.set_ylabel(\"Ages\")\n",
    "ax.set_xlabel(\"Population\")\n",
    "ax.legend(('Men', 'Women'));\n",
    "\n",
    "\n",
    "ind = 5*np.arange(len(yticklabels))  # the x locations for the groups\n",
    "ax.set_yticks(ind)\n",
    "ax.set_yticklabels(yticklabels, minor=False);"
   ]
  },
  {
   "cell_type": "code",
   "execution_count": 15,
   "id": "bcb0d5cd",
   "metadata": {},
   "outputs": [
    {
     "data": {
      "text/plain": [
       "(15.07873228599744, 30.30542988473423, 20.0691279705588)"
      ]
     },
     "execution_count": 15,
     "metadata": {},
     "output_type": "execute_result"
    }
   ],
   "source": [
    "dic[\"Men\"][0][0], dic[\"Men\"][1][0],  dic[\"Men\"][2][0] \n",
    "# dic[\"Men\"][ind1][ind2]  : ind1 : col_nb  && ind2: row_nb, such as row_nb goes from 0 to 38213"
   ]
  },
  {
   "cell_type": "code",
   "execution_count": 16,
   "id": "f3db9612",
   "metadata": {},
   "outputs": [
    {
     "data": {
      "text/plain": [
       "[[15.07873228599744, 5.10288065843621],\n",
       " [30.30542988473423, 15.308641975308632],\n",
       " [20.0691279705588, 10.20576131687242],\n",
       " [30.04830569879738, 20.41152263374484],\n",
       " [10.05275745808769, 0],\n",
       " [15.0054237872233, 5.10288065843621],\n",
       " [30.454210926582732, 10.20576131687242],\n",
       " [15.04207803661037, 20.41152263374484],\n",
       " [25.24253154001468, 5.10288065843621],\n",
       " [35.370219064601606, 5.10288065843621],\n",
       " [40.58108666379017, 0],\n",
       " [45.82941632905917, 5.10288065843621],\n",
       " [10.20099798701331, 0],\n",
       " [20.43891749822772, 15.308641975308632],\n",
       " [20.40144949780892, 10.20576131687242],\n",
       " [5.13783037487103, 5.10288065843621],\n",
       " [5.10036237445223, 10.20576131687242],\n",
       " [15.30108712335669, 5.10288065843621],\n",
       " [0, 0],\n",
       " [0, 0]]"
      ]
     },
     "execution_count": 16,
     "metadata": {},
     "output_type": "execute_result"
    }
   ],
   "source": [
    "# to check if ok\n",
    "[(dic[\"Men\"][i][0:2]) for i in np.arange(len(dic[\"Age\"]))]"
   ]
  },
  {
   "cell_type": "code",
   "execution_count": 17,
   "id": "95b4081c",
   "metadata": {},
   "outputs": [],
   "source": [
    "def sum_list(list1, list2):\n",
    "    return list1 + list2"
   ]
  },
  {
   "cell_type": "code",
   "execution_count": 18,
   "id": "3e1a77fb",
   "metadata": {
    "scrolled": true
   },
   "outputs": [],
   "source": [
    "y = [sum_list(dic[\"Men\"][i], dic[\"Women\"][i]) for i in np.arange(len(dic[\"Age\"]))]\n",
    "y_men = [dic[\"Men\"][i] for i in np.arange(len(dic[\"Age\"]))]\n",
    "y_women = [dic[\"Women\"][i] for i in np.arange(len(dic[\"Age\"]))]\n",
    "\n",
    "#20 lists inside y\n",
    "res = []\n",
    "for i in y:\n",
    "    res = res + i\n",
    "    \n",
    "    \n",
    "res_men = []; res_women = []\n",
    "for i in y_men:\n",
    "    res_men = res_men + i\n",
    "for i in y_women:\n",
    "    res_women = res_women + i"
   ]
  },
  {
   "cell_type": "code",
   "execution_count": 19,
   "id": "3d229c45",
   "metadata": {},
   "outputs": [
    {
     "name": "stdout",
     "output_type": "stream",
     "text": [
      "22\n"
     ]
    },
    {
     "data": {
      "image/png": "[encoded data removed]",
      "text/plain": [
       "<Figure size 1368x648 with 1 Axes>"
      ]
     },
     "metadata": {
      "needs_background": "light"
     },
     "output_type": "display_data"
    }
   ],
   "source": [
    "plt.figure(figsize = (19, 9))\n",
    "\n",
    "length = len(res)\n",
    "num_bins = round(1 + math.log2(length)) # Sturge rule\n",
    "print(num_bins)\n",
    "\n",
    "plt.hist(res, num_bins, facecolor='blue', alpha=0.5)\n",
    "\n",
    "plt.title(\"Absolute frequencies of people\") \n",
    "plt.xlabel(\"people(Intervals)\")\n",
    "plt.ylabel(\"Absolute frequencies\") \n",
    "plt.show()"
   ]
  },
  {
   "cell_type": "code",
   "execution_count": 20,
   "id": "16b62fd7",
   "metadata": {},
   "outputs": [
    {
     "data": {
      "image/png": "[encoded data removed]",
      "text/plain": [
       "<Figure size 1368x648 with 1 Axes>"
      ]
     },
     "metadata": {
      "needs_background": "light"
     },
     "output_type": "display_data"
    }
   ],
   "source": [
    "# we use log, to better visualize the plot\n",
    "\n",
    "plt.figure(figsize = (19, 9))\n",
    "\n",
    "length = len(res)\n",
    "num_bins = round(1 + math.log2(length)) # Sturge rule\n",
    "#print(num_bins)\n",
    "plt.hist(res, num_bins, color = 'blue',\n",
    "        edgecolor = 'red', density = True, \n",
    "        orientation = 'horizontal', rwidth = 0.8,\n",
    "        alpha = .5, log = True)\n",
    "\n",
    "plt.title(\"Absolute frequencies of people\") \n",
    "plt.xlabel(\"Absolute frequencies\")\n",
    "plt.ylabel(\"people(Intervals)\") \n",
    "plt.show()"
   ]
  },
  {
   "cell_type": "code",
   "execution_count": 21,
   "id": "482a899a",
   "metadata": {},
   "outputs": [
    {
     "data": {
      "image/png": "[encoded data removed]",
      "text/plain": [
       "<Figure size 1368x288 with 1 Axes>"
      ]
     },
     "metadata": {
      "needs_background": "light"
     },
     "output_type": "display_data"
    }
   ],
   "source": [
    "plt.figure(figsize = (19, 4))\n",
    "\n",
    "length = len(res_men)\n",
    "num_bins = round(1 + math.log2(length)) # Sturge rule\n",
    "#print(num_bins)\n",
    "plt.hist([res_men, res_women],\n",
    "                num_bins, \n",
    "                label = [\"Men\", \"Women\"], alpha=0.5)\n",
    "plt.legend()\n",
    "\n",
    "plt.title(\"Absolute frequencies of people\") \n",
    "plt.xlabel(\"people(Intervals)\")\n",
    "plt.ylabel(\"Absolute frequencies\") ;"
   ]
  },
  {
   "cell_type": "code",
   "execution_count": 22,
   "id": "ba490344",
   "metadata": {},
   "outputs": [
    {
     "data": {
      "image/png": "[encoded data removed]",
      "text/plain": [
       "<Figure size 1368x648 with 1 Axes>"
      ]
     },
     "metadata": {
      "needs_background": "light"
     },
     "output_type": "display_data"
    }
   ],
   "source": [
    "# we use log, to better visualize the plot\n",
    "plt.figure(figsize = (19, 9))\n",
    "\n",
    "length = len(res)\n",
    "num_bins = round(1 + math.log2(length)) # Sturge rule\n",
    "#print(num_bins)\n",
    "plt.hist([res_men, res_women], num_bins, \n",
    "        edgecolor = 'red', density = True, \n",
    "        orientation = 'horizontal', rwidth = 0.8,\n",
    "        alpha = .5, log = True, label = [\"Men\", \"Women\"])\n",
    "\n",
    "plt.legend()\n",
    "\n",
    "plt.title(\"Absolute frequencies of people\") \n",
    "plt.xlabel(\"Absolute frequencies\")\n",
    "plt.ylabel(\"people(Intervals)\") ;"
   ]
  },
  {
   "cell_type": "markdown",
   "id": "a035fed9",
   "metadata": {},
   "source": [
    "# Percentage of people aged 15–24 years, for each municipality"
   ]
  },
  {
   "cell_type": "code",
   "execution_count": 23,
   "id": "cbd4200b",
   "metadata": {},
   "outputs": [
    {
     "data": {
      "text/plain": [
       "[7.1315945996965295,\n",
       " 7.692307692307692,\n",
       " nan,\n",
       " 13.381461033884175,\n",
       " 13.360207908485581]"
      ]
     },
     "execution_count": 23,
     "metadata": {},
     "output_type": "execute_result"
    }
   ],
   "source": [
    "res_comune = [] # total %pop aged 15-24 years, by comune\n",
    "pop_comune = [] # total pop by comune\n",
    "slice_comune = [] # total 15-24 by comune\n",
    "\n",
    "for com in range(len(dic[\"Men\"][0])):\n",
    "    A = [dic[\"Men\"][k][com] for k in range(len(dic[\"Age\"]))]\n",
    "    B = [dic[\"Women\"][k][com] for k in range(len(dic[\"Age\"]))]\n",
    "    total_pop = sum(A+B)\n",
    "    slice_A = A[3:5] # men 15-24\n",
    "    slice_B = B[3:5] # women 15-24\n",
    "    sliced = sum(slice_A)+sum(slice_B) # population age: 15-24\n",
    "    if total_pop !=0:\n",
    "        percent = (sliced/total_pop)*100\n",
    "    else:\n",
    "        percent = np.nan # we can remove the row or replace nan by neg value, \n",
    "                         # or ignore the commune when visualizing\n",
    "    \n",
    "    pop_comune.append(total_pop) # total pop by comune\n",
    "    res_comune.append(percent) # total %pop aged 15-24 years, by comune\n",
    "    slice_comune.append(sliced) # total 15-24 by comune\n",
    "    \n",
    "res_comune[:5]"
   ]
  },
  {
   "cell_type": "code",
   "execution_count": 24,
   "id": "e525d833",
   "metadata": {},
   "outputs": [
    {
     "data": {
      "text/plain": [
       "57.14285714285714"
      ]
     },
     "execution_count": 24,
     "metadata": {},
     "output_type": "execute_result"
    }
   ],
   "source": [
    "max(res_comune)"
   ]
  },
  {
   "cell_type": "code",
   "execution_count": 25,
   "id": "872a1576",
   "metadata": {},
   "outputs": [
    {
     "data": {
      "text/plain": [
       "[774.254876490623, 265.349794238683, 0, 14046.22813393976, 1663.687004322038]"
      ]
     },
     "execution_count": 25,
     "metadata": {},
     "output_type": "execute_result"
    }
   ],
   "source": [
    "pop_comune[:5]"
   ]
  },
  {
   "cell_type": "code",
   "execution_count": 28,
   "id": "f60bc878",
   "metadata": {
    "scrolled": true
   },
   "outputs": [
    {
     "data": {
      "image/png": "[encoded data removed]",
      "text/plain": [
       "<Figure size 1080x360 with 1 Axes>"
      ]
     },
     "metadata": {
      "needs_background": "light"
     },
     "output_type": "display_data"
    }
   ],
   "source": [
    "plt.figure(figsize = (15, 5))\n",
    "\n",
    "plt.plot(range(len(res_comune)), res_comune, 'ko');"
   ]
  },
  {
   "cell_type": "markdown",
   "id": "eabc3418",
   "metadata": {},
   "source": [
    "# Mean (avg) and Standard deviation (std)"
   ]
  },
  {
   "cell_type": "code",
   "execution_count": 29,
   "id": "bca96d85",
   "metadata": {},
   "outputs": [
    {
     "data": {
      "text/plain": [
       "[13.804179739923077,\n",
       " 5.10288065843621,\n",
       " 0.0,\n",
       " 469.8976361184063,\n",
       " 55.568010680969934]"
      ]
     },
     "execution_count": 29,
     "metadata": {},
     "output_type": "execute_result"
    }
   ],
   "source": [
    "avg_comune = [] # mean\n",
    "std_comune = [] # std\n",
    "\n",
    "for com in range(len(dic[\"Men\"][0])):\n",
    "    A = [dic[\"Men\"][k][com] for k in range(len(dic[\"Age\"]))]\n",
    "    B = [dic[\"Women\"][k][com] for k in range(len(dic[\"Age\"]))]\n",
    "    slice_A = A[3:5]\n",
    "    slice_B = B[3:5]\n",
    "    avg = np.mean(slice_A+slice_B)\n",
    "    std = (np.var(slice_A+slice_B))**0.5 # or np.sqrt\n",
    "    avg_comune.append(avg)\n",
    "    std_comune.append(std)\n",
    "\n",
    "    \n",
    "avg_comune[:5]"
   ]
  },
  {
   "cell_type": "code",
   "execution_count": 30,
   "id": "51932dfe",
   "metadata": {},
   "outputs": [
    {
     "data": {
      "text/plain": [
       "[10.842280030741296,\n",
       " 8.838448565372042,\n",
       " 0.0,\n",
       " 59.67812403314221,\n",
       " 17.257552391668536]"
      ]
     },
     "execution_count": 30,
     "metadata": {},
     "output_type": "execute_result"
    }
   ],
   "source": [
    "std_comune[:5]"
   ]
  },
  {
   "cell_type": "markdown",
   "id": "87122fc8",
   "metadata": {},
   "source": [
    "# Percentage of people aged 15-24 years in France"
   ]
  },
  {
   "cell_type": "code",
   "execution_count": 31,
   "id": "9217e755",
   "metadata": {},
   "outputs": [
    {
     "data": {
      "text/plain": [
       "51.31404560309668"
      ]
     },
     "execution_count": 31,
     "metadata": {},
     "output_type": "execute_result"
    }
   ],
   "source": [
    "avg_France = np.mean(avg_comune)\n",
    "avg_France"
   ]
  },
  {
   "cell_type": "markdown",
   "id": "bc85ef9b",
   "metadata": {},
   "source": [
    "# Largest and lowest extreme % of population aged 15-24 years"
   ]
  },
  {
   "cell_type": "code",
   "execution_count": 32,
   "id": "54dedb91",
   "metadata": {},
   "outputs": [
    {
     "data": {
      "text/plain": [
       "(57.14285714285714, list)"
      ]
     },
     "execution_count": 32,
     "metadata": {},
     "output_type": "execute_result"
    }
   ],
   "source": [
    "max(res_comune), type(res_comune)"
   ]
  },
  {
   "cell_type": "code",
   "execution_count": 33,
   "id": "014ca29b",
   "metadata": {},
   "outputs": [],
   "source": [
    "w = np.asarray(res_comune)[np.logical_not(np.isnan(res_comune))] # removing NaNs, not needed if we used \n",
    "                                                                # a larger value as 555\n",
    "# with NaNs, we do not need to look at the results to fix the value (555 or more than)"
   ]
  },
  {
   "cell_type": "code",
   "execution_count": 34,
   "id": "54057411",
   "metadata": {},
   "outputs": [
    {
     "data": {
      "text/plain": [
       "array([ 0.        ,  0.68022294,  0.72781522, ..., 45.45454545,\n",
       "       50.        , 57.14285714])"
      ]
     },
     "execution_count": 34,
     "metadata": {},
     "output_type": "execute_result"
    }
   ],
   "source": [
    "v = np.unique(w)\n",
    "v"
   ]
  },
  {
   "cell_type": "code",
   "execution_count": 35,
   "id": "a38d8ae1",
   "metadata": {},
   "outputs": [
    {
     "data": {
      "text/plain": [
       "array([   18,    74,   158, ..., 37977, 38041, 38054])"
      ]
     },
     "execution_count": 35,
     "metadata": {},
     "output_type": "execute_result"
    }
   ],
   "source": [
    "#to get ALL the min indices \n",
    "np.where(np.array(res_comune) == min(v))[0] # or np.flatnonzero(np.array(res_comune) == min(v))\n",
    "#np.argmin only gives 1 elt"
   ]
  },
  {
   "cell_type": "code",
   "execution_count": 36,
   "id": "0a139f94",
   "metadata": {},
   "outputs": [
    {
     "data": {
      "text/plain": [
       "array([27263])"
      ]
     },
     "execution_count": 36,
     "metadata": {},
     "output_type": "execute_result"
    }
   ],
   "source": [
    "max_val = np.unique(v)[-1] # \n",
    "# [-1] using NaN, \n",
    "#[-2] with a value : the last one is 555, which corresponds to municipalities with missing values\n",
    "np.where(np.array(res_comune) == max_val)[0] # or np.flatnonzero(np.array(res_comune) == max_val)"
   ]
  },
  {
   "cell_type": "code",
   "execution_count": 37,
   "id": "d8539eb1",
   "metadata": {},
   "outputs": [],
   "source": [
    "extrem_bas = np.where(np.array(res_comune) == min(v))[0]\n",
    "extrem_haut = np.where(np.array(res_comune) == max_val)[0]#[0]"
   ]
  },
  {
   "cell_type": "code",
   "execution_count": 38,
   "id": "4441a107",
   "metadata": {},
   "outputs": [
    {
     "data": {
      "text/plain": [
       "array([27263])"
      ]
     },
     "execution_count": 38,
     "metadata": {},
     "output_type": "execute_result"
    }
   ],
   "source": [
    "extrem_haut"
   ]
  },
  {
   "cell_type": "code",
   "execution_count": 39,
   "id": "29d00d19",
   "metadata": {},
   "outputs": [
    {
     "data": {
      "text/plain": [
       "array([   18,    74,   158, ..., 37977, 38041, 38054])"
      ]
     },
     "execution_count": 39,
     "metadata": {},
     "output_type": "execute_result"
    }
   ],
   "source": [
    "extrem_bas"
   ]
  },
  {
   "cell_type": "markdown",
   "id": "b704e34d",
   "metadata": {},
   "source": [
    "## Largest extreme %"
   ]
  },
  {
   "cell_type": "code",
   "execution_count": 40,
   "id": "3703f701",
   "metadata": {},
   "outputs": [
    {
     "name": "stdout",
     "output_type": "stream",
     "text": [
      " ==============  Largest extreme value  =============== \n",
      "---> Comune Name    : Roche-Charles-La-Mayrand \n",
      "\n",
      "---> Comune Code INSEE   : 63303 \n",
      "\n",
      "---> '%' of people aged 15-24 years by comune   : 57.14  % \n",
      "\n",
      "--->  Comune Population 'all ages'   : 33.333333333333314 \n",
      "\n",
      "--->  Comune Population, people aged 15-24 years   : 19.047619047619037 \n",
      "\n",
      " ==============  Largest extreme value  (END) =============== \n"
     ]
    }
   ],
   "source": [
    "print(\" ==============  Largest extreme value  =============== \")\n",
    "    \n",
    "com = extrem_haut[0]\n",
    "#leur nom, code insee, pourcentage 15/24, population\n",
    "\n",
    "comune_name = sheet.col_slice(colx = 5, start_rowx=14+com, end_rowx=14+com+1)\n",
    "comune_code_insee_DR = sheet.col_slice(colx = 1, start_rowx=14+com, end_rowx=14+com+1)\n",
    "comune_code_insee_CR = sheet.col_slice(colx = 2, start_rowx=14+com, end_rowx=14+com+1)\n",
    "\n",
    "comune_code_insee = comune_code_insee_DR[0].value + comune_code_insee_CR[0].value\n",
    "print(\"---> Comune Name    :\", comune_name[0].value, \"\\n\")\n",
    "\n",
    "print(\"---> Comune Code INSEE   :\", comune_code_insee, \"\\n\")\n",
    "\n",
    "print(\"---> '%' of people aged 15-24 years by comune   :\", round(res_comune[com], 2), \" %\", \"\\n\")\n",
    "# or res_comune[com]\n",
    "\n",
    "print(\"--->  Comune Population 'all ages'   :\", pop_comune[com], \"\\n\")\n",
    "\n",
    "print(\"--->  Comune Population, people aged 15-24 years   :\", slice_comune[com], \"\\n\")\n",
    "\n",
    "print(\" ==============  Largest extreme value  (END) =============== \")\n"
   ]
  },
  {
   "cell_type": "markdown",
   "id": "bb2d7c2c",
   "metadata": {},
   "source": [
    "## Lowest extreme %"
   ]
  },
  {
   "cell_type": "code",
   "execution_count": 43,
   "id": "c0c13676",
   "metadata": {},
   "outputs": [
    {
     "name": "stdout",
     "output_type": "stream",
     "text": [
      "2167\n"
     ]
    },
    {
     "data": {
      "text/plain": [
       "[18, 74, 158]"
      ]
     },
     "execution_count": 43,
     "metadata": {},
     "output_type": "execute_result"
    }
   ],
   "source": [
    "print(len(list(extrem_bas)))\n",
    "list(extrem_bas)[:3]"
   ]
  },
  {
   "cell_type": "code",
   "execution_count": 55,
   "id": "0c2f9ba4",
   "metadata": {},
   "outputs": [
    {
     "name": "stdout",
     "output_type": "stream",
     "text": [
      " ==============  Lowest extreme value  =============== \n",
      "---> Comune Name    : Armix \n",
      "\n",
      "      ---> Comune Code INSEE   : 01019 \n",
      "\n",
      "      ---> '%' of people aged 15-24 years by comune   : 0.0  % \n",
      "\n",
      "      --->  Comune Population 'all ages'   : 40.83333333333331 \n",
      "\n",
      "      --->  Comune Population, people aged 15-24 years   : 0 \n",
      "\n",
      "---> Comune Name    : Chaley \n",
      "\n",
      "      ---> Comune Code INSEE   : 01076 \n",
      "\n",
      "      ---> '%' of people aged 15-24 years by comune   : 0.0  % \n",
      "\n",
      "      --->  Comune Population 'all ages'   : 140.0 \n",
      "\n",
      "      --->  Comune Population, people aged 15-24 years   : 0 \n",
      "\n",
      "---> Comune Name    : Neuilly-En-Vexin \n",
      "\n",
      "      ---> Comune Code INSEE   : 95447 \n",
      "\n",
      "      ---> '%' of people aged 15-24 years by comune   : 0.0  % \n",
      "\n",
      "      --->  Comune Population 'all ages'   : 208.0000000000001 \n",
      "\n",
      "      --->  Comune Population, people aged 15-24 years   : 0 \n",
      "\n",
      "---> Comune Name    : Plessis-Gassot \n",
      "\n",
      "      ---> Comune Code INSEE   : 95492 \n",
      "\n",
      "      ---> '%' of people aged 15-24 years by comune   : 0.0  % \n",
      "\n",
      "      --->  Comune Population 'all ages'   : 63.21917808219182 \n",
      "\n",
      "      --->  Comune Population, people aged 15-24 years   : 0 \n",
      "\n",
      " ==============  Lowest extreme value  (END) =============== \n"
     ]
    }
   ],
   "source": [
    "# we only print the 2 first and 2 last ones\n",
    "\n",
    "print(\" ==============  Lowest extreme value  =============== \")\n",
    "    \n",
    "for com in (list(extrem_bas)[:2] + list(extrem_bas)[-2:]) : #list(extrem_bas):\n",
    "    comune_name = sheet.col_slice(colx = 5, start_rowx=14+com, end_rowx=14+com+1)\n",
    "    comune_code_insee_DR = sheet.col_slice(colx = 1, start_rowx=14+com, end_rowx=14+com+1)\n",
    "    comune_code_insee_CR = sheet.col_slice(colx = 2, start_rowx=14+com, end_rowx=14+com+1)\n",
    "\n",
    "    comune_code_insee = comune_code_insee_DR[0].value + comune_code_insee_CR[0].value\n",
    "    print(\"---> Comune Name    :\", comune_name[0].value, \"\\n\")\n",
    "\n",
    "    print(5*\" \", \"---> Comune Code INSEE   :\", comune_code_insee, \"\\n\")\n",
    "\n",
    "    print(5*\" \", \"---> '%' of people aged 15-24 years by comune   :\", round(res_comune[com], 2), \" %\", \"\\n\")\n",
    "    # or res_comune[com]\n",
    "\n",
    "    print(5*\" \", \"--->  Comune Population 'all ages'   :\", pop_comune[com], \"\\n\")\n",
    "\n",
    "    print(5*\" \", \"--->  Comune Population, people aged 15-24 years   :\", slice_comune[com], \"\\n\")\n",
    "\n",
    "print(\" ==============  Lowest extreme value  (END) =============== \")\n"
   ]
  },
  {
   "cell_type": "code",
   "execution_count": 57,
   "id": "cf9b9666",
   "metadata": {},
   "outputs": [
    {
     "data": {
      "text/plain": [
       "2143"
      ]
     },
     "execution_count": 57,
     "metadata": {},
     "output_type": "execute_result"
    }
   ],
   "source": [
    "dict_1 = {}\n",
    "\n",
    "for com in list(extrem_bas):\n",
    "    comune_name = sheet.col_slice(colx = 5, start_rowx=14+com, end_rowx=14+com+1)\n",
    "    comune_code_insee_DR = sheet.col_slice(colx = 1, start_rowx=14+com, end_rowx=14+com+1)\n",
    "    comune_code_insee_CR = sheet.col_slice(colx = 2, start_rowx=14+com, end_rowx=14+com+1)\n",
    "    comune_code_insee = comune_code_insee_DR[0].value + comune_code_insee_CR[0].value\n",
    "  \n",
    "    dict_1[comune_name[0].value] = {}\n",
    "    \n",
    "    dict_1[comune_name[0].value][\"comune_code_insee\"] = comune_code_insee\n",
    "    dict_1[comune_name[0].value][\"'%' of people aged 15-24 years\"] = round(res_comune[com], 2)\n",
    "    dict_1[comune_name[0].value][\"Comune Population 'all ages'\"] = pop_comune[com]\n",
    "    dict_1[comune_name[0].value][\"Comune Population, people aged 15-24 years\"] = slice_comune[com]\n",
    "    \n",
    "len(dict_1)"
   ]
  },
  {
   "cell_type": "code",
   "execution_count": 58,
   "id": "046d7af8",
   "metadata": {},
   "outputs": [
    {
     "data": {
      "text/plain": [
       "'Armix'"
      ]
     },
     "execution_count": 58,
     "metadata": {},
     "output_type": "execute_result"
    }
   ],
   "source": [
    "# we olny print the first element\n",
    "list(dict_1.keys())[0]"
   ]
  },
  {
   "cell_type": "code",
   "execution_count": 62,
   "id": "d1b7bdf5",
   "metadata": {},
   "outputs": [
    {
     "data": {
      "text/plain": [
       "['Armix', 'Chaley']"
      ]
     },
     "execution_count": 62,
     "metadata": {},
     "output_type": "execute_result"
    }
   ],
   "source": [
    "list(dict_1.keys())[:2]"
   ]
  },
  {
   "cell_type": "code",
   "execution_count": 63,
   "id": "c8591840",
   "metadata": {},
   "outputs": [
    {
     "data": {
      "text/plain": [
       "{'comune_code_insee': '01019',\n",
       " \"'%' of people aged 15-24 years\": 0.0,\n",
       " \"Comune Population 'all ages'\": 40.83333333333331,\n",
       " 'Comune Population, people aged 15-24 years': 0}"
      ]
     },
     "execution_count": 63,
     "metadata": {},
     "output_type": "execute_result"
    }
   ],
   "source": [
    "dict_1[list(dict_1.keys())[0]]"
   ]
  },
  {
   "cell_type": "markdown",
   "id": "885b42ea",
   "metadata": {},
   "source": [
    "# Save data (res_comune & comunes_DR_CR)"
   ]
  },
  {
   "cell_type": "code",
   "execution_count": 64,
   "id": "0a94582b",
   "metadata": {},
   "outputs": [
    {
     "data": {
      "text/plain": [
       "38213"
      ]
     },
     "execution_count": 64,
     "metadata": {},
     "output_type": "execute_result"
    }
   ],
   "source": [
    "comunes_labels_txt = sheet.col_slice(colx = 5, start_rowx=14, end_rowx=sheet.nrows-1)\n",
    "comunes_labels = [i.value for i in list(comunes_labels_txt)]\n",
    "len(comunes_labels)"
   ]
  },
  {
   "cell_type": "code",
   "execution_count": 65,
   "id": "bfbe5dd2",
   "metadata": {},
   "outputs": [
    {
     "data": {
      "text/plain": [
       "38213"
      ]
     },
     "execution_count": 65,
     "metadata": {},
     "output_type": "execute_result"
    }
   ],
   "source": [
    "comunes_insee_DR = sheet.col_slice(colx = 1, start_rowx=14, end_rowx=sheet.nrows-1)\n",
    "comunes_insee_CR = sheet.col_slice(colx = 2, start_rowx=14, end_rowx=sheet.nrows-1)\n",
    "list_DR = list(comunes_insee_DR)\n",
    "list_CR = list(comunes_insee_CR)\n",
    "comunes_DR_CR = [i[0].value+i[1].value for i in list(zip(list_DR, list_CR))]\n",
    "len(comunes_DR_CR)"
   ]
  },
  {
   "cell_type": "code",
   "execution_count": 78,
   "id": "2498d1eb",
   "metadata": {},
   "outputs": [],
   "source": [
    "# save data using numpy (in our case)  or pickle ..\n",
    "np.savez(\"comunes_data\", (comunes_DR_CR,res_comune, pop_comune) )\n",
    "#np.savez(\"comunes_labels\", comunes_labels)"
   ]
  },
  {
   "cell_type": "code",
   "execution_count": 79,
   "id": "915f6c8f",
   "metadata": {},
   "outputs": [],
   "source": [
    "# END "
   ]
  }
 ],
 "metadata": {
  "kernelspec": {
   "display_name": "Python 3 (ipykernel)",
   "language": "python",
   "name": "python3"
  },
  "language_info": {
   "codemirror_mode": {
    "name": "ipython",
    "version": 3
   },
   "file_extension": ".py",
   "mimetype": "text/x-python",
   "name": "python",
   "nbconvert_exporter": "python",
   "pygments_lexer": "ipython3",
   "version": "3.8.6"
  },
  "toc": {
   "base_numbering": 1,
   "nav_menu": {},
   "number_sections": true,
   "sideBar": true,
   "skip_h1_title": false,
   "title_cell": "Table of Contents",
   "title_sidebar": "Contents",
   "toc_cell": false,
   "toc_position": {},
   "toc_section_display": true,
   "toc_window_display": true
  }
 },
 "nbformat": 4,
 "nbformat_minor": 5
}
